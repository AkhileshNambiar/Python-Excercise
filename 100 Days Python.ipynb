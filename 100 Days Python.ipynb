{
 "cells": [
  {
   "cell_type": "markdown",
   "metadata": {},
   "source": [
    "DAY 1: BASIC PRINTING And DEBUGGING"
   ]
  },
  {
   "cell_type": "code",
   "execution_count": 18,
   "metadata": {},
   "outputs": [
    {
     "name": "stdout",
     "output_type": "stream",
     "text": [
      "Hello akhilesh\n"
     ]
    }
   ],
   "source": [
    "print(\"Hello\" +\" \" + input(\"Enter your name\"))"
   ]
  },
  {
   "cell_type": "code",
   "execution_count": 3,
   "metadata": {},
   "outputs": [
    {
     "name": "stdout",
     "output_type": "stream",
     "text": [
      "Your Band Name is Mumbai Riders\n"
     ]
    }
   ],
   "source": [
    "city = input(\"Enter your City \")\n",
    "pet = input(\"Enter your pet name \")\n",
    "print(\"Your Band Name is \"+city +\" \"+pet)"
   ]
  },
  {
   "cell_type": "markdown",
   "metadata": {},
   "source": [
    "DAY 2: DATA TYPES, TYPE CASTING, ARITHMETIC OPERATIONS"
   ]
  },
  {
   "cell_type": "code",
   "execution_count": 7,
   "metadata": {},
   "outputs": [
    {
     "data": {
      "text/plain": [
       "'o'"
      ]
     },
     "execution_count": 7,
     "metadata": {},
     "output_type": "execute_result"
    }
   ],
   "source": [
    "len(\"Hello\")\n",
    "\"hello\"[4]"
   ]
  },
  {
   "cell_type": "code",
   "execution_count": 11,
   "metadata": {},
   "outputs": [
    {
     "name": "stdout",
     "output_type": "stream",
     "text": [
      "Your Name has 8 Characters\n"
     ]
    }
   ],
   "source": [
    "name = len(input(\"Enter your name\"))\n",
    "print(\"Your Name has\",name,\"Characters\")"
   ]
  },
  {
   "cell_type": "code",
   "execution_count": 12,
   "metadata": {},
   "outputs": [
    {
     "name": "stdout",
     "output_type": "stream",
     "text": [
      "Your Name has 8 Characters\n"
     ]
    }
   ],
   "source": [
    "name = len(input(\"Enter your name\"))\n",
    "name = str(name)\n",
    "print(\"Your Name has \"+name+\" \"+\"Characters\")"
   ]
  },
  {
   "cell_type": "code",
   "execution_count": 14,
   "metadata": {},
   "outputs": [
    {
     "name": "stdout",
     "output_type": "stream",
     "text": [
      "4\n"
     ]
    }
   ],
   "source": [
    "two_digit_num = str(input(\"Enter two digit no\"))\n",
    "print(int(two_digit_num[0])+int(two_digit_num[1]))"
   ]
  },
  {
   "cell_type": "markdown",
   "metadata": {},
   "source": [
    "BMI CALCULATOR"
   ]
  },
  {
   "cell_type": "code",
   "execution_count": 16,
   "metadata": {},
   "outputs": [
    {
     "name": "stdout",
     "output_type": "stream",
     "text": [
      "Your BMI is  24.262186896478102\n"
     ]
    }
   ],
   "source": [
    "height = float(input(\"Enter your height in cm\"))\n",
    "weight = float(input(\"Enter yout weight in kg\"))\n",
    "BMI = weight/(height*0.01)**2\n",
    "print(\"Your BMI is \",BMI)"
   ]
  },
  {
   "cell_type": "markdown",
   "metadata": {},
   "source": [
    "LIFE IN WEEKS"
   ]
  },
  {
   "cell_type": "code",
   "execution_count": 3,
   "metadata": {},
   "outputs": [
    {
     "name": "stdout",
     "output_type": "stream",
     "text": [
      "You have lived 1092 weeks\n",
      "You have 3588 weeks left\n"
     ]
    }
   ],
   "source": [
    "age  = int(input(\"Enter your age\"))\n",
    "week_in_year = 52\n",
    "user_age_week = age*week_in_year\n",
    "weeks_lived_untill_90 = 4680\n",
    "remaining_weeks = weeks_lived_untill_90 - user_age_week\n",
    "print(f\"You have lived {user_age_week} weeks\")\n",
    "print(f\"You have {remaining_weeks} weeks left\")"
   ]
  },
  {
   "cell_type": "markdown",
   "metadata": {},
   "source": [
    "TIP BILL CALCULATOR"
   ]
  },
  {
   "cell_type": "code",
   "execution_count": 8,
   "metadata": {},
   "outputs": [
    {
     "name": "stdout",
     "output_type": "stream",
     "text": [
      "Welcome to the tip Calculator\n",
      "124.56\n",
      "12\n",
      "7\n",
      "Each person Should pay: $19.93\n"
     ]
    }
   ],
   "source": [
    "print(\"Welcome to the tip Calculator\")\n",
    "tot_bill = float(input(\"What was the total bill?\"))\n",
    "print(tot_bill)\n",
    "tip = int(input(\"How much tip you like to give? 10,12 or 15?\"))\n",
    "print(tip)\n",
    "person = int(input(\"How many people to split the bill? \"))\n",
    "print(person)\n",
    "contri = (tot_bill+(tot_bill*tip*0.01))/person\n",
    "contri = round(contri,2)\n",
    "print(f\"Each person Should pay: ${contri}\")"
   ]
  },
  {
   "cell_type": "markdown",
   "metadata": {},
   "source": [
    "DAY 3: CONDITIONAL OPERATORS AND LOGICAL OPERATORS"
   ]
  },
  {
   "cell_type": "markdown",
   "metadata": {},
   "source": [
    "ODD EVEN NO"
   ]
  },
  {
   "cell_type": "code",
   "execution_count": 10,
   "metadata": {},
   "outputs": [
    {
     "name": "stdout",
     "output_type": "stream",
     "text": [
      "94\n",
      "The number 94 is an even no\n"
     ]
    }
   ],
   "source": [
    "no = int(input(\"Enter any number \"))\n",
    "print(no)\n",
    "if no%2==0:\n",
    "    print(f\"The number {no} is an even no\")\n",
    "else:\n",
    "    print(f\"The number {no} is a odd no\")    "
   ]
  },
  {
   "cell_type": "markdown",
   "metadata": {},
   "source": [
    "NESTED if/else CONCEPT"
   ]
  },
  {
   "cell_type": "code",
   "execution_count": 12,
   "metadata": {},
   "outputs": [
    {
     "name": "stdout",
     "output_type": "stream",
     "text": [
      "Welcome to the Rollercoaster ride!\n",
      "You can ride this rollercoaster\n",
      "You have to pay $7\n"
     ]
    }
   ],
   "source": [
    "print(\"Welcome to the Rollercoaster ride!\")\n",
    "age = int(input(\"Enter your age\"))\n",
    "height = int(input(\"Enter your height\"))\n",
    "if height>= 120:\n",
    "    print(\"You can ride this rollercoaster\")\n",
    "    if age<12:\n",
    "        print(\"You have to pay $5\")\n",
    "    elif 12<=age<=18:\n",
    "        print(\"You have to pay $7\") \n",
    "    elif age>18:\n",
    "       print(\"You have to pay $12\")       \n",
    "else:\n",
    "    print(\"You cannot ride this rollercoaster\")        "
   ]
  },
  {
   "cell_type": "markdown",
   "metadata": {},
   "source": [
    "BMI USING IF/ELSE CONDITION"
   ]
  },
  {
   "cell_type": "code",
   "execution_count": 14,
   "metadata": {},
   "outputs": [
    {
     "name": "stdout",
     "output_type": "stream",
     "text": [
      "Your BMI is  24.218749999999996\n",
      "You are Normal\n"
     ]
    }
   ],
   "source": [
    "height = float(input(\"Enter your height in cm\"))\n",
    "weight = float(input(\"Enter yout weight in kg\"))\n",
    "BMI = weight/(height*0.01)**2\n",
    "print(\"Your BMI is \",BMI)\n",
    "if BMI<18.5:\n",
    "    print(\"You are Underweight\")\n",
    "elif 18.5<=BMI<25:\n",
    "    print(\"You are Normal\")\n",
    "elif 25<=BMI<30:\n",
    "    print(\"You are slightly overweight\")  \n",
    "elif 30<=BMI<35:\n",
    "    print(\"You are obese\") \n",
    "else:\n",
    "    print(\"You are clinically obese\")\n"
   ]
  },
  {
   "cell_type": "markdown",
   "metadata": {},
   "source": [
    "LEAP YEAR"
   ]
  },
  {
   "cell_type": "code",
   "execution_count": 23,
   "metadata": {},
   "outputs": [
    {
     "name": "stdout",
     "output_type": "stream",
     "text": [
      "It is not a leap year\n"
     ]
    }
   ],
   "source": [
    "year = int(input(\"Enter a year\"))\n",
    "if (year%4==0 and year%100!=0) or (year%400==0):\n",
    "    print(\"It is a leap year\")\n",
    "else:\n",
    "    print(\"It is not a leap year\")"
   ]
  },
  {
   "cell_type": "markdown",
   "metadata": {},
   "source": [
    "PIZZA ORDERING PRACTICE"
   ]
  },
  {
   "cell_type": "code",
   "execution_count": 27,
   "metadata": {},
   "outputs": [
    {
     "name": "stdout",
     "output_type": "stream",
     "text": [
      "Thankyou for choosing Python Pizza Deliveries\n",
      "Your final bill is $28\n"
     ]
    }
   ],
   "source": [
    "print(\"Thankyou for choosing Python Pizza Deliveries\")\n",
    "size = input(\"What size pizza do you want? S,M,L \")\n",
    "add_pepperoni = input(\"Do you want Pepperoni? Y or N\")\n",
    "extra_cheese = input(\"Do you want extra cheese? Y or N\")\n",
    "price = 0\n",
    "if size==\"S\":\n",
    "    price = 15\n",
    "    if add_pepperoni == \"Y\":\n",
    "        price = price + 2\n",
    "    if extra_cheese == \"Y\":\n",
    "        price = price + 1 \n",
    "    print(f\"Your final bill is ${price}\")          \n",
    "if size==\"M\":\n",
    "    price = 20\n",
    "    if add_pepperoni == \"Y\":\n",
    "        price = price + 3\n",
    "    if extra_cheese == \"Y\":\n",
    "        price = price + 1 \n",
    "    print(f\"Your final bill is ${price}\") \n",
    "if size==\"L\":\n",
    "    price = 25\n",
    "    if add_pepperoni == \"Y\":\n",
    "        price = price + 3\n",
    "    if extra_cheese == \"Y\":\n",
    "        price = price + 1 \n",
    "    print(f\"Your final bill is ${price}\")"
   ]
  },
  {
   "cell_type": "markdown",
   "metadata": {},
   "source": [
    "LOVE CALCULATOR"
   ]
  },
  {
   "cell_type": "code",
   "execution_count": 29,
   "metadata": {},
   "outputs": [
    {
     "name": "stdout",
     "output_type": "stream",
     "text": [
      "The love calculator is calculating your score...\n",
      "14\n"
     ]
    }
   ],
   "source": [
    "print(\"The love calculator is calculating your score...\")\n",
    "name_1 = input(\"Enter your name\")\n",
    "name_2 = input(\"Enter your name\")\n",
    "combined_name = name_1+name_2\n",
    "lower_name = combined_name.lower()\n",
    "t = lower_name.count(\"t\")\n",
    "r = lower_name.count(\"r\")\n",
    "u = lower_name.count(\"u\")\n",
    "e = lower_name.count(\"e\")\n",
    "first_digit = t+r+u+e\n",
    "l = lower_name.count(\"l\")\n",
    "o = lower_name.count(\"o\")\n",
    "v = lower_name.count(\"v\")\n",
    "e = lower_name.count(\"e\")\n",
    "second_digit = l+o+v+e\n",
    "love_score = str(first_digit)+str(second_digit)\n",
    "print(love_score)"
   ]
  },
  {
   "cell_type": "markdown",
   "metadata": {},
   "source": [
    "TREASURE ISLAND GAME"
   ]
  },
  {
   "cell_type": "code",
   "execution_count": 34,
   "metadata": {},
   "outputs": [
    {
     "name": "stdout",
     "output_type": "stream",
     "text": [
      "Welcome to Treasure island.Your mission is to find the treasure\n",
      "Now you have reached to a mysterious and magical lake\n",
      "Congratulations you have now reached a mystical cave which has three doors\n",
      "Congratulations you have won the Treasure\n"
     ]
    }
   ],
   "source": [
    "print(\"Welcome to Treasure island.Your mission is to find the treasure\")\n",
    "choice_1 = input(\"Where do you want to go right or left? \")\n",
    "if choice_1 == \"left\" or choice_1 == \"Left\":\n",
    "    print(\"Now you have reached to a mysterious and magical lake\")\n",
    "    choice_2 = input(\"So now do you want to swim in this magical and mysterious lake or you want to wait for a ferry? \")\n",
    "    if choice_2 == \"wait\" or choice_2 == \"Wait\":\n",
    "        print(\"Congratulations you have now reached a mystical cave which has three doors\")\n",
    "        choice_3 = input(\"Which door will you now choose red,blue or yellow,remember you are just one way from winning the game so choose wisely otherwise you are gonna die.\")\n",
    "        if choice_3 == \"Yellow\" or choice_3 == \"yellow\":\n",
    "            print(\"Congratulations you have won the Treasure\")\n",
    "        else:\n",
    "            print(\"FATALITY THE GAME IS OVER\")\n",
    "    else:\n",
    "        print(\"FATALITY YOU HAVE BEEN KILLED BY ALLIGATORS.GAME OVER\")\n",
    "else:\n",
    "    print(\"FATALITY YOU HAVE FALLEN INTO A DEATH HOLE.GAME OVER\")                \n",
    "\n",
    "\n"
   ]
  },
  {
   "cell_type": "markdown",
   "metadata": {},
   "source": [
    "DAY 4: PYTHON LISTS AND RANDOMISATION"
   ]
  },
  {
   "cell_type": "markdown",
   "metadata": {},
   "source": [
    "RANDOM INTEGER NO"
   ]
  },
  {
   "cell_type": "code",
   "execution_count": 5,
   "metadata": {},
   "outputs": [
    {
     "name": "stdout",
     "output_type": "stream",
     "text": [
      "10\n"
     ]
    }
   ],
   "source": [
    "import random\n",
    "random_int = random.randint(1,10)\n",
    "print(random_int)"
   ]
  },
  {
   "cell_type": "markdown",
   "metadata": {},
   "source": [
    "RANDOM FLOATING NO"
   ]
  },
  {
   "cell_type": "code",
   "execution_count": 20,
   "metadata": {},
   "outputs": [
    {
     "name": "stdout",
     "output_type": "stream",
     "text": [
      "0.8395840928554771\n",
      "4.197920464277385\n"
     ]
    }
   ],
   "source": [
    "random_float = random.random()\n",
    "print(random_float)\n",
    "print(random_float*5) #To find the decimal between 0 and 5 using random float"
   ]
  },
  {
   "cell_type": "markdown",
   "metadata": {},
   "source": [
    "HEADS OR TAILS USING RANDOM NO"
   ]
  },
  {
   "cell_type": "code",
   "execution_count": 24,
   "metadata": {},
   "outputs": [
    {
     "name": "stdout",
     "output_type": "stream",
     "text": [
      "Heads\n"
     ]
    }
   ],
   "source": [
    "coin = random.randint(0,1)\n",
    "if coin == 0:\n",
    "    print(\"Tails\")\n",
    "else:\n",
    "    print(\"Heads\")    "
   ]
  },
  {
   "cell_type": "markdown",
   "metadata": {},
   "source": [
    "LISTS"
   ]
  },
  {
   "cell_type": "code",
   "execution_count": 28,
   "metadata": {},
   "outputs": [
    {
     "name": "stdout",
     "output_type": "stream",
     "text": [
      "['Maharashtra', 'Goa', 'Kerala', 'Delhi']\n",
      "['Maharashtra', 'Goa', 'Kerala', 'Delhi', 'Uttar Pradesh']\n"
     ]
    }
   ],
   "source": [
    "states = [\"Maharashtra\",\"Goa\",\"Kerala\",\"Delhi\"]\n",
    "print(states)\n",
    "states[0]\n",
    "states.append(\"Uttar Pradesh\")\n",
    "print(states)"
   ]
  },
  {
   "cell_type": "markdown",
   "metadata": {},
   "source": [
    "BANKER ROULETTE"
   ]
  },
  {
   "cell_type": "code",
   "execution_count": 36,
   "metadata": {},
   "outputs": [
    {
     "name": "stdout",
     "output_type": "stream",
     "text": [
      "['Akhilesh', 'Suraj', 'Kaushal', 'Nitin']\n",
      "2\n",
      "Suraj is going to Pay\n"
     ]
    }
   ],
   "source": [
    "name = \"Akhilesh, Suraj, Kaushal, Nitin\"\n",
    "name = name.split(\", \")\n",
    "print(name)\n",
    "ran = random.randint(1,len(name))\n",
    "print(ran)\n",
    "if ran == 1:\n",
    "    print(\"Akhilesh is going to Pay\")\n",
    "if ran == 2:\n",
    "    print(\"Suraj is going to Pay\")\n",
    "if ran == 3:\n",
    "    print(\"Kaushal is going to Pay\")\n",
    "if ran == 4:\n",
    "    print(\"Nitin is going to Pay\")\n"
   ]
  },
  {
   "cell_type": "markdown",
   "metadata": {},
   "source": [
    "ALTERNATIVE WAY AND EASY WAY"
   ]
  },
  {
   "cell_type": "code",
   "execution_count": 39,
   "metadata": {},
   "outputs": [
    {
     "name": "stdout",
     "output_type": "stream",
     "text": [
      "['Akhilesh', 'Suraj', 'Kaushal', 'Nitin']\n",
      "Nitin is going to pay\n"
     ]
    }
   ],
   "source": [
    "name = \"Akhilesh, Suraj, Kaushal, Nitin\"\n",
    "name = name.split(\", \")\n",
    "print(name)\n",
    "ran = random.randint(0,len(name)-1)\n",
    "print(f\"{name[ran]} is going to pay\")"
   ]
  },
  {
   "cell_type": "markdown",
   "metadata": {},
   "source": [
    "ROCK,PAPER AND SCISSOR GAME"
   ]
  },
  {
   "cell_type": "code",
   "execution_count": 56,
   "metadata": {},
   "outputs": [
    {
     "name": "stdout",
     "output_type": "stream",
     "text": [
      "User Chooses: Rock\n",
      "Computer Chooses: Scissors\n",
      "YOU WIN SINCE ROCK DESTROYS SCISSORS\n"
     ]
    }
   ],
   "source": [
    "name = [\"Rock\",\"Paper\",\"Scissors\"]\n",
    "user = int(input(\"What do you choose? Type 0 for rock, 1 for paper or 2 for Scissors\"))\n",
    "computer = random.randint(0,2)\n",
    "print(f\"User Chooses: {name[user]}\")\n",
    "print(f\"Computer Chooses: {name[computer]}\")\n",
    "if user == 0 and computer == 0:\n",
    "    print(\"DRAW\")\n",
    "if user == 0 and computer == 1:\n",
    "    print(\"YOU LOSE SINCE PAPER CATCHES ROCK\")\n",
    "if user == 0 and computer == 2:\n",
    "    print(\"YOU WIN SINCE ROCK DESTROYS SCISSORS\")\n",
    "if user == 1 and computer == 0:\n",
    "    print(\"YOU WIN SINCE PAPER CATCHES ROCK\")\n",
    "if user == 1 and computer == 1:\n",
    "   print(\"DRAW\")\n",
    "if user == 1 and computer == 2:\n",
    "    print(\"YOU LOSE SINCE SCISSORS TEARS PAPER\")\n",
    "if user == 2 and computer == 0:\n",
    "    print(\"YOU LOSE SINCE ROCK DESTROYS SCISSORS\")\n",
    "if user == 2 and computer == 1:\n",
    "    print(\"YOU WIN SINCE SCISSORS TEARS PAPER\")\n",
    "if user == 2 and computer == 2:\n",
    "    print(\"DRAW\")"
   ]
  },
  {
   "cell_type": "markdown",
   "metadata": {},
   "source": [
    "DAY 5: FOR LOOPS, RANGE AND CODE BLOCKS"
   ]
  },
  {
   "cell_type": "code",
   "execution_count": 3,
   "metadata": {},
   "outputs": [
    {
     "name": "stdout",
     "output_type": "stream",
     "text": [
      "apples\n",
      "apples pie\n",
      "peach\n",
      "peach pie\n",
      "pear\n",
      "pear pie\n"
     ]
    }
   ],
   "source": [
    "fruits = [\"apples\",\"peach\",\"pear\"]\n",
    "for i in fruits:\n",
    "    print(i)\n",
    "    print(i + \" pie\")"
   ]
  },
  {
   "cell_type": "markdown",
   "metadata": {},
   "source": [
    "AVERAGE HEIGHT USING LOOPS"
   ]
  },
  {
   "cell_type": "code",
   "execution_count": 6,
   "metadata": {},
   "outputs": [
    {
     "name": "stdout",
     "output_type": "stream",
     "text": [
      "Total Height is 857\n",
      "Number of students is 5\n",
      "Average height is 171\n"
     ]
    }
   ],
   "source": [
    "height = [156,178,165,171,187]\n",
    "total_height = 0\n",
    "n = 0\n",
    "for i in height:\n",
    "    n = n + height.count(i)\n",
    "    total_height = total_height + i\n",
    "    avg_height = total_height/n\n",
    "print(f\"Total Height is {total_height}\")\n",
    "print(f\"Number of students is {n}\")\n",
    "print(f\"Average height is {round(avg_height)}\")"
   ]
  },
  {
   "cell_type": "markdown",
   "metadata": {},
   "source": [
    "HIGHEST SCORE"
   ]
  },
  {
   "cell_type": "code",
   "execution_count": 8,
   "metadata": {},
   "outputs": [
    {
     "name": "stdout",
     "output_type": "stream",
     "text": [
      "The highest score is: 91\n"
     ]
    }
   ],
   "source": [
    "score = [78,65,89,86,55,91,64,89]\n",
    "highest_score = 0\n",
    "for score in score:\n",
    "    if score > highest_score:\n",
    "        highest_score = score\n",
    "print(f\"The highest score is: {highest_score}\")        "
   ]
  },
  {
   "cell_type": "code",
   "execution_count": 10,
   "metadata": {},
   "outputs": [
    {
     "name": "stdout",
     "output_type": "stream",
     "text": [
      "5050\n"
     ]
    }
   ],
   "source": [
    "sum = 0\n",
    "for i in range(1,101):\n",
    "    sum = sum + i\n",
    "print(sum)"
   ]
  },
  {
   "cell_type": "markdown",
   "metadata": {},
   "source": [
    "ADDING EVEN NOS"
   ]
  },
  {
   "cell_type": "code",
   "execution_count": 14,
   "metadata": {},
   "outputs": [
    {
     "name": "stdout",
     "output_type": "stream",
     "text": [
      "30\n"
     ]
    }
   ],
   "source": [
    "n = int(input(\"Enter any no\"))\n",
    "sum = 0\n",
    "for i in range(0,n+1,2):\n",
    "    sum = sum + i\n",
    "print(sum)"
   ]
  },
  {
   "cell_type": "markdown",
   "metadata": {},
   "source": [
    "FIZZBUZZ"
   ]
  },
  {
   "cell_type": "code",
   "execution_count": 24,
   "metadata": {},
   "outputs": [
    {
     "name": "stdout",
     "output_type": "stream",
     "text": [
      "1\n",
      "2\n",
      "Fizz\n",
      "3\n",
      "4\n",
      "Buzz\n",
      "5\n",
      "Fizz\n",
      "6\n",
      "7\n",
      "8\n",
      "Fizz\n",
      "9\n",
      "Buzz\n",
      "10\n",
      "11\n",
      "Fizz\n",
      "12\n",
      "13\n",
      "14\n",
      "Fizz\n",
      "Buzz\n",
      "FizzBuzz\n"
     ]
    }
   ],
   "source": [
    "for i in range(1,16):\n",
    "    if i%3==0:\n",
    "        print(\"Fizz\")\n",
    "    if i%5==0:\n",
    "        print(\"Buzz\")\n",
    "    if i%3==0 and i%5==0:\n",
    "        print(\"FizzBuzz\")\n",
    "    else:\n",
    "        print(i)   "
   ]
  },
  {
   "cell_type": "markdown",
   "metadata": {},
   "source": [
    "PASSWORD GENERATOR"
   ]
  },
  {
   "cell_type": "code",
   "execution_count": 103,
   "metadata": {},
   "outputs": [
    {
     "name": "stdout",
     "output_type": "stream",
     "text": [
      "Welcome to the PyPassword Generator!\n",
      "Your Password is: 0c!yqJRxe!6)Hx9rG9M$\n"
     ]
    }
   ],
   "source": [
    "import random\n",
    "letters = ['a', 'b', 'c', 'd', 'e', 'f', 'g', 'h', 'i', 'j', 'k', 'l', 'm', 'n', 'o', 'p', 'q', 'r', 's', 't', 'u', 'v', 'w', 'x', 'y', 'z', 'A', 'B', 'C', 'D', 'E', 'F', 'G', 'H', 'I', 'J', 'K', 'L', 'M', 'N', 'O', 'P', 'Q', 'R', 'S', 'T', 'U', 'V', 'W', 'X', 'Y', 'Z']\n",
    "numbers = ['0', '1', '2', '3', '4', '5', '6', '7', '8', '9']\n",
    "symbols = ['!', '#', '$', '%', '&', '(', ')', '*', '+']\n",
    "\n",
    "print(\"Welcome to the PyPassword Generator!\")\n",
    "nr_letters= int(input(\"How many letters would you like in your password?\\n\")) \n",
    "nr_symbols = int(input(f\"How many symbols would you like?\\n\"))\n",
    "nr_numbers = int(input(f\"How many numbers would you like?\\n\"))\n",
    "\n",
    "password_list = []\n",
    "password = \"\"\n",
    "for i in range(1,nr_letters+1):\n",
    "    random_letter = random.choice(letters)\n",
    "    password_list.append(random_letter)\n",
    "\n",
    "for i in range(1,nr_numbers+1):\n",
    "    random_numbers = random.choice(numbers)\n",
    "    password_list.append(random_numbers)\n",
    "\n",
    "for i in range(1,nr_symbols+1):\n",
    "    random_symbols = random.choice(symbols)\n",
    "    password_list.append(random_symbols)\n",
    "\n",
    "random.shuffle(password_list)\n",
    "for i in password_list:\n",
    "    password = password+i\n",
    "print(f\"Your Password is: {password}\")"
   ]
  },
  {
   "cell_type": "markdown",
   "metadata": {},
   "source": [
    "DAY 6: FUNCTIONS,CODE BLOCKS AND WHILE LOOPS"
   ]
  },
  {
   "cell_type": "markdown",
   "metadata": {},
   "source": [
    "FUNCTIONS"
   ]
  },
  {
   "cell_type": "code",
   "execution_count": 2,
   "metadata": {},
   "outputs": [
    {
     "name": "stdout",
     "output_type": "stream",
     "text": [
      "hello\n",
      "bye\n"
     ]
    }
   ],
   "source": [
    "def my_functiom():\n",
    "    print(\"hello\")\n",
    "    print(\"bye\")\n",
    "my_functiom()"
   ]
  },
  {
   "cell_type": "markdown",
   "metadata": {},
   "source": [
    "DAY 7: HANGMAN PROJECT"
   ]
  },
  {
   "cell_type": "code",
   "execution_count": 7,
   "metadata": {},
   "outputs": [],
   "source": [
    "#Step 1 \n",
    "\n",
    "word_list = [\"aardvark\", \"baboon\", \"camel\"]\n",
    "\n",
    "#TODO-1 - Randomly choose a word from the word_list and assign it to a variable called chosen_word.\n",
    "\n",
    "#TODO-2 - Ask the user to guess a letter and assign their answer to a variable called guess. Make guess lowercase.\n",
    "\n",
    "#TODO-3 - Check if the letter the user guessed (guess) is one of the letters in the chosen_word."
   ]
  },
  {
   "cell_type": "code",
   "execution_count": 3,
   "metadata": {},
   "outputs": [
    {
     "name": "stdout",
     "output_type": "stream",
     "text": [
      "camel\n",
      "False\n",
      "True\n",
      "False\n",
      "False\n",
      "False\n"
     ]
    }
   ],
   "source": [
    "import random\n",
    "word = random.choice(word_list)\n",
    "print(word)\n",
    "guess = input(\"Guess a letter\")\n",
    "for i in word:\n",
    "    if i in guess:\n",
    "        print(\"True\")\n",
    "    else:\n",
    "        print(\"False\")"
   ]
  },
  {
   "cell_type": "code",
   "execution_count": 4,
   "metadata": {},
   "outputs": [
    {
     "name": "stdout",
     "output_type": "stream",
     "text": [
      "Pssst, the solution is camel.\n",
      "['_', '_', '_', '_', '_']\n",
      "['_', 'a', '_', '_', '_']\n"
     ]
    }
   ],
   "source": [
    "#Step 2\n",
    "\n",
    "import random\n",
    "word_list = [\"aardvark\", \"baboon\", \"camel\"]\n",
    "chosen_word = random.choice(word_list)\n",
    "\n",
    "#Testing code\n",
    "print(f'Pssst, the solution is {chosen_word}.')\n",
    "\n",
    "#TODO-1: - Create an empty List called display.\n",
    "#For each letter in the chosen_word, add a \"_\" to 'display'.\n",
    "#So if the chosen_word was \"apple\", display should be [\"_\", \"_\", \"_\", \"_\", \"_\"] with 5 \"_\" representing each letter to guess.\n",
    "\n",
    "display = []\n",
    "for i in chosen_word:\n",
    "    display.append(\"_\")\n",
    "print(display)    \n",
    "guess = input(\"Guess a letter: \").lower()\n",
    "\n",
    "#TODO-2: - Loop through each position in the chosen_word;\n",
    "#If the letter at that position matches 'guess' then reveal that letter in the display at that position.\n",
    "#e.g. If the user guessed \"p\" and the chosen word was \"apple\", then display should be [\"_\", \"p\", \"p\", \"_\", \"_\"].\n",
    "\n",
    "for letter in range(len(chosen_word)):\n",
    "    if chosen_word[letter] == guess:\n",
    "        display[letter] = guess\n",
    "\n",
    "#TODO-3: - Print 'display' and you should see the guessed letter in the correct position and every other letter replace with \"_\".\n",
    "#Hint - Don't worry about getting the user to guess the next letter. We'll tackle that in step 3.\n",
    "print(display)"
   ]
  },
  {
   "cell_type": "code",
   "execution_count": 2,
   "metadata": {},
   "outputs": [
    {
     "name": "stdout",
     "output_type": "stream",
     "text": [
      "Pssst, the solution is aardvark.\n",
      "['a', 'a', '_', '_', '_', 'a', '_', '_']\n",
      "['a', 'a', 'r', '_', '_', 'a', 'r', '_']\n",
      "['a', 'a', 'r', 'd', '_', 'a', 'r', '_']\n",
      "['a', 'a', 'r', 'd', 'v', 'a', 'r', '_']\n",
      "['a', 'a', 'r', 'd', 'v', 'a', 'r', 'k']\n",
      "YOU WIN\n"
     ]
    }
   ],
   "source": [
    "#Step 3\n",
    "\n",
    "import random\n",
    "word_list = [\"aardvark\", \"baboon\", \"camel\"]\n",
    "chosen_word = random.choice(word_list)\n",
    "word_length = len(chosen_word)\n",
    "\n",
    "#Testing code\n",
    "print(f'Pssst, the solution is {chosen_word}.')\n",
    "\n",
    "#Create blanks\n",
    "display = []\n",
    "for _ in range(word_length):\n",
    "    display += \"_\"\n",
    "\n",
    "#TODO-1: - Use a while loop to let the user guess again. The loop should only stop once the user has guessed all the letters in the chosen_word and 'display' has no more blanks (\"_\"). Then you can tell the user they've won.\n",
    "end_game = 0\n",
    "while not end_game:\n",
    "    guess = input(\"Guess a letter: \").lower()\n",
    "\n",
    "    #Check guessed letter\n",
    "    for position in range(word_length):\n",
    "        letter = chosen_word[position]\n",
    "        if letter == guess:\n",
    "            display[position] = letter\n",
    "    print(display)\n",
    "    if \"_\" not in display:\n",
    "        end_game = True\n",
    "        print(\"YOU WIN\")"
   ]
  },
  {
   "cell_type": "markdown",
   "metadata": {},
   "source": [
    "DAY 8: FUNCTION PARAMETERS AND CAESAR CIPHER"
   ]
  },
  {
   "cell_type": "code",
   "execution_count": 7,
   "metadata": {},
   "outputs": [
    {
     "name": "stdout",
     "output_type": "stream",
     "text": [
      "Hello Good morning Vaish\n",
      "Its been a long day right?\n",
      "Will you come with me for a walk?\n"
     ]
    }
   ],
   "source": [
    "def greet(x):\n",
    "    print(f\"Hello Good morning {x}\")\n",
    "    print(\"Its been a long day right?\")\n",
    "    print(\"Will you come with me for a walk?\")\n",
    "greet(\"Vaish\")    "
   ]
  },
  {
   "cell_type": "code",
   "execution_count": 11,
   "metadata": {},
   "outputs": [
    {
     "name": "stdout",
     "output_type": "stream",
     "text": [
      "Hello Vaish\n",
      "Mulund is where you live right ?\n"
     ]
    }
   ],
   "source": [
    "#Functions with more than 1 input\n",
    "def greet_with(name=\"Vaish\",location = \"Mulund\"):\n",
    "    print(f\"Hello {name}\")\n",
    "    print(f\"{location} is where you live right ?\")\n",
    "greet_with()"
   ]
  },
  {
   "cell_type": "markdown",
   "metadata": {},
   "source": [
    "PAINT AREA CALCULATOR"
   ]
  },
  {
   "cell_type": "code",
   "execution_count": 13,
   "metadata": {},
   "outputs": [
    {
     "name": "stdout",
     "output_type": "stream",
     "text": [
      "You will need 4 cans of paint\n"
     ]
    }
   ],
   "source": [
    "import math\n",
    "def paint_calc(height,width,cover):\n",
    "    num_cans = (height*width)/cover\n",
    "    num_cans = math.ceil(num_cans)\n",
    "    print(f\"You will need {num_cans} cans of paint\")\n",
    "height = int(input(\"Enter the height of wall\"))\n",
    "width = int(input(\"enter the width of the wall\"))\n",
    "cover = int(input(\"Enter the cover\"))\n",
    "paint_calc(height = height,width = width,cover = cover)    "
   ]
  },
  {
   "cell_type": "markdown",
   "metadata": {},
   "source": [
    "PRIME NUMBER CHECKER"
   ]
  },
  {
   "cell_type": "code",
   "execution_count": 36,
   "metadata": {},
   "outputs": [
    {
     "name": "stdout",
     "output_type": "stream",
     "text": [
      "It is not a prime number\n"
     ]
    }
   ],
   "source": [
    "def prime_checker(n):\n",
    "    is_prime = True\n",
    "    for i in range(2,n):\n",
    "        if n%i==0:\n",
    "            is_prime = False\n",
    "    if is_prime == True:\n",
    "        print(\"It is a prime number\") \n",
    "    else:\n",
    "        print(\"It is not a prime number\") \n",
    "prime_checker(69)\n"
   ]
  },
  {
   "cell_type": "markdown",
   "metadata": {},
   "source": [
    "CAESAR CIPHER"
   ]
  },
  {
   "cell_type": "code",
   "execution_count": 29,
   "metadata": {},
   "outputs": [
    {
     "name": "stdout",
     "output_type": "stream",
     "text": [
      "The decoded text is hello \n"
     ]
    }
   ],
   "source": [
    "alphabet = ['a', 'b', 'c', 'd', 'e', 'f', 'g', 'h', 'i', 'j', 'k', 'l', 'm', 'n', 'o', 'p', 'q', 'r', 's', 't', 'u', 'v', 'w', 'x', 'y', 'z', 'a', 'b', 'c', 'd', 'e', 'f', 'g', 'h', 'i', 'j', 'k', 'l', 'm', 'n', 'o', 'p', 'q', 'r', 's', 't', 'u', 'v', 'w', 'x', 'y', 'z']\n",
    "\n",
    "def caesar(start_text, shift_amount, cipher_direction):\n",
    "  end_text = \"\"\n",
    "  if cipher_direction == \"decode\":\n",
    "    shift_amount *= -1\n",
    "  for char in start_text:\n",
    "    if char in alphabet:\n",
    "      position = alphabet.index(char)\n",
    "      new_position = position + shift_amount\n",
    "      end_text += alphabet[new_position]\n",
    "    else:\n",
    "      end_text += char\n",
    "  print(f\"Here's the {cipher_direction}d result: {end_text}\")\n",
    "\n",
    "should_end = False\n",
    "while not should_end:\n",
    "\n",
    "  direction = input(\"Type 'encode' to encrypt, type 'decode' to decrypt:\\n\")\n",
    "  text = input(\"Type your message:\\n\").lower()\n",
    "  shift = int(input(\"Type the shift number:\\n\"))\n",
    " \n",
    "  shift = shift % 26\n",
    "\n",
    "  caesar(start_text=text, shift_amount=shift, cipher_direction=direction)\n",
    "\n",
    "  restart = input(\"Type 'yes' if you want to go again. Otherwise type 'no'.\\n\")\n",
    "  if restart == \"no\":\n",
    "    should_end = True\n",
    "    print(\"Goodbye\")\n",
    "    "
   ]
  },
  {
   "cell_type": "markdown",
   "metadata": {},
   "source": [
    "DAY 9: DICTIONARIES AND NESTING"
   ]
  },
  {
   "cell_type": "code",
   "execution_count": 40,
   "metadata": {},
   "outputs": [
    {
     "name": "stdout",
     "output_type": "stream",
     "text": [
      "An Error\n",
      "{'Bug': 'An Error', 'Function': 'A code that can be call over easily', 'Loop': 'over and over again'}\n"
     ]
    }
   ],
   "source": [
    "dic = {\"Bug\": \"An Error\",\"Function\": \"A code that can be call over easily\",\"Loop\":\"over and over again\"}\n",
    "print(dic[\"Bug\"])\n",
    "print(dic)"
   ]
  },
  {
   "cell_type": "code",
   "execution_count": 42,
   "metadata": {},
   "outputs": [
    {
     "name": "stdout",
     "output_type": "stream",
     "text": [
      "{'Harry': 'Exceeds Expectation', 'Ron': 'Acceptable', 'Hermoine': 'Outstanding', 'Draco': 'Acceptable', 'Neville': 'Fail'}\n"
     ]
    }
   ],
   "source": [
    "stu_scores = {\"Harry\":81,\"Ron\":78,\"Hermoine\":99,\"Draco\":74,\"Neville\":62}\n",
    "stu_grades = {}\n",
    "for grades in stu_scores:\n",
    "    if stu_scores[grades]>90:\n",
    "        stu_grades[grades] = \"Outstanding\"\n",
    "    if stu_scores[grades]>80 and stu_scores[grades]<90:\n",
    "        stu_grades[grades] = \"Exceeds Expectation\"\n",
    "    if stu_scores[grades]>70 and stu_scores[grades]<80:\n",
    "        stu_grades[grades] = \"Acceptable\"    \n",
    "    if stu_scores[grades]<70:\n",
    "        stu_grades[grades] = \"Fail\"\n",
    "print(stu_grades)"
   ]
  },
  {
   "cell_type": "code",
   "execution_count": 1,
   "metadata": {},
   "outputs": [],
   "source": [
    "travel_log = {\n",
    "  \"France\":{\"cities_visited\":[\"Paris\",\"Lille\",\"Dijon\"],\"total_visits\":12},\n",
    "  \"Germany\":{\"cities_visited\":[\"Paris\",\"Lille\",\"Dijon\"],\"total_visits\":12},\n",
    "}"
   ]
  },
  {
   "cell_type": "markdown",
   "metadata": {},
   "source": [
    "BLIND AUCTION PROBLEM"
   ]
  },
  {
   "cell_type": "code",
   "execution_count": 2,
   "metadata": {},
   "outputs": [
    {
     "name": "stdout",
     "output_type": "stream",
     "text": [
      "\u001b[H\u001b[2JThe winner is Vaishnavi with the highest bidding amount 143\n"
     ]
    }
   ],
   "source": [
    "from replit import clear\n",
    "bids = {}\n",
    "bidding_finished = False\n",
    "while not bidding_finished:\n",
    "    name = input(\"Enter your name\")\n",
    "    bid = int(input(\"Enter the bid price\"))\n",
    "    bids[name] = bid\n",
    "    x = input(\"Are there any other biders? Type Yes or No\").lower()\n",
    "    if x == \"no\":\n",
    "        bidding_finished = True\n",
    "        bidder = \"\"\n",
    "        higher_bid = 0\n",
    "        for i in bids:\n",
    "            if bids[i]>higher_bid:\n",
    "                higher_bid = bids[i] \n",
    "                bidder = i  \n",
    "        print(f\"The winner is {bidder} with the highest bidding amount {higher_bid}\")                  \n",
    "    if x == \"yes\":\n",
    "        clear()"
   ]
  },
  {
   "cell_type": "markdown",
   "metadata": {},
   "source": [
    "DAY 10: FUNCTIONS AND OUTPUTS"
   ]
  },
  {
   "cell_type": "code",
   "execution_count": 4,
   "metadata": {},
   "outputs": [
    {
     "data": {
      "text/plain": [
       "'Akhilesh Nambiar'"
      ]
     },
     "execution_count": 4,
     "metadata": {},
     "output_type": "execute_result"
    }
   ],
   "source": [
    "def format_name(f_name,l_name):\n",
    "    f_name = f_name.title()\n",
    "    l_name = l_name.title()\n",
    "    return(f_name + \" \"+l_name)\n",
    "format_name(\"aKhILESh\",\"nAmBIaR\")"
   ]
  },
  {
   "cell_type": "code",
   "execution_count": 5,
   "metadata": {},
   "outputs": [
    {
     "name": "stdout",
     "output_type": "stream",
     "text": [
      "12.0\n"
     ]
    }
   ],
   "source": [
    "def add(n1, n2):\n",
    "  return n1 + n2\n",
    " \n",
    "def subtract(n1, n2):\n",
    "  return n1 - n2\n",
    " \n",
    "def multiply(n1, n2):\n",
    "  return n1 * n2\n",
    " \n",
    "def divide(n1, n2):\n",
    "  return n1 / n2\n",
    " \n",
    "print(add(2, multiply(5, divide(8, 4))))"
   ]
  },
  {
   "cell_type": "code",
   "execution_count": 6,
   "metadata": {},
   "outputs": [
    {
     "name": "stdout",
     "output_type": "stream",
     "text": [
      "None\n"
     ]
    }
   ],
   "source": [
    "def my_function(a):\n",
    "    if a < 40:\n",
    "        return\n",
    "        print(\"Terrible\")\n",
    "    if a < 80:\n",
    "        return \"Pass\"\n",
    "    else:\n",
    "        return \"Great\"\n",
    "print(my_function(25))"
   ]
  },
  {
   "cell_type": "markdown",
   "metadata": {},
   "source": [
    "CALCULATOR"
   ]
  },
  {
   "cell_type": "code",
   "execution_count": null,
   "metadata": {},
   "outputs": [],
   "source": [
    "#Add\n",
    "def add(n1,n2):\n",
    "    return n1+n2\n",
    "#Subtract\n",
    "def sub(n1,n2):\n",
    "    return n1-n2\n",
    "#Multiply\n",
    "def multi(n1,n2):\n",
    "    return n1*n2\n",
    "#Division\n",
    "def div(n1,n2):\n",
    "    return n1/n2\n",
    "\n",
    "operation = {\n",
    "  \"+\":add,\n",
    "  \"-\":sub,\n",
    "  \"*\":multi,\n",
    "  \"/\":div\n",
    "}\n",
    "def calculator():\n",
    "    num1 = int(input(\"Whats the first no\"))\n",
    "    for i in operation:\n",
    "        print(i)\n",
    "    should_continue = True\n",
    "    while should_continue:\n",
    "        num2 = int(input(\"Whats the next no\"))\n",
    "        symbol = input(\"Pick an operation from line above\")\n",
    "        calculation_function = operation[symbol]\n",
    "        answer = calculation_function(num1,num2)\n",
    "        print(f\"{num1} {symbol} {num2} = {answer}\")\n",
    "        x = input(\"Should you wish to continue type yes or you want to start a new calculation type no\").lower()\n",
    "        if x==\"yes\":\n",
    "            num1 = answer\n",
    "        else:\n",
    "            should_continue = False\n",
    "            calculator()\n",
    "\n",
    "\n",
    "calculator()\n",
    "\n",
    "\n"
   ]
  },
  {
   "cell_type": "markdown",
   "metadata": {},
   "source": [
    "DAY 11: BLACKJACK GAME"
   ]
  },
  {
   "cell_type": "code",
   "execution_count": 57,
   "metadata": {},
   "outputs": [
    {
     "name": "stdout",
     "output_type": "stream",
     "text": [
      "Your Cards: [10, 9] and the score is 19\n",
      "Computer Cards: 9 and the score is 13\n",
      "Win, opponent has went over\n"
     ]
    }
   ],
   "source": [
    "import random\n",
    "cards = [11,2,3,4,5,6,7,8,9,10,10,10,10]\n",
    "user_cards = []\n",
    "computer_cards = []\n",
    "\n",
    "def deal_card():\n",
    "    return(random.choice(cards))\n",
    "\n",
    "def calculate_score(cards):\n",
    "    if sum(cards)==21 and len(cards)==2:\n",
    "        return 0\n",
    "    if 11 in cards and sum(cards)>21:\n",
    "        cards.remove(11)\n",
    "        cards.append(1)\n",
    "    return sum(cards)\n",
    "\n",
    "def compare(user_score,computer_score):\n",
    "    if user_score == computer_score:\n",
    "        return \"Draw\"\n",
    "    elif computer_score == 0:\n",
    "        return \"Lose, opponent has BlackJack\"\n",
    "    elif computer_score >21 :\n",
    "        return \"Win, opponent has went over\"\n",
    "    elif user_score >21:\n",
    "        return \"Lose, you went over\"\n",
    "    elif user_score == 0:\n",
    "        return \"Win, you have a BlackJack\"\n",
    "    elif computer_score < user_score:\n",
    "        return \"Win\"\n",
    "    else:\n",
    "        return \"You Lose\"\n",
    "\n",
    "for i in range(2):\n",
    "    user_cards.append(deal_card())\n",
    "    computer_cards.append(deal_card())\n",
    "\n",
    "is_game_over = False\n",
    "while not is_game_over:\n",
    "    user_score = calculate_score(user_cards)\n",
    "    computer_score = calculate_score(computer_cards)\n",
    "    print(f\"Your Cards: {user_cards} and the score is {user_score}\")\n",
    "    print(f\"Computer Cards: {computer_cards[0]}\")\n",
    "\n",
    "\n",
    "    if user_score==0 or computer_score==0 or user_score>21:\n",
    "        is_game_over = True\n",
    "    else:\n",
    "        user_should_deal = input(\"Type y to get another card or n to pass\")\n",
    "        if user_should_deal==\"y\":\n",
    "            user_should_deal.append(deal_card())\n",
    "        else:\n",
    "            is_game_over = True\n",
    "\n",
    "while computer_score!=0 and computer_score<17:\n",
    "    computer_cards.append(deal_card())\n",
    "    computer_score  = calculate_score(computer_cards)  \n",
    "\n",
    "print(compare(user_score,computer_score))        \n"
   ]
  },
  {
   "cell_type": "code",
   "execution_count": null,
   "metadata": {},
   "outputs": [],
   "source": []
  },
  {
   "cell_type": "code",
   "execution_count": null,
   "metadata": {},
   "outputs": [],
   "source": []
  }
 ],
 "metadata": {
  "kernelspec": {
   "display_name": "Python 3",
   "language": "python",
   "name": "python3"
  },
  "language_info": {
   "codemirror_mode": {
    "name": "ipython",
    "version": 3
   },
   "file_extension": ".py",
   "mimetype": "text/x-python",
   "name": "python",
   "nbconvert_exporter": "python",
   "pygments_lexer": "ipython3",
   "version": "3.12.2"
  }
 },
 "nbformat": 4,
 "nbformat_minor": 2
}
